{
 "cells": [
  {
   "cell_type": "markdown",
   "metadata": {},
   "source": [
    "# Structurer et préparer des données pour la cartographie thématique"
   ]
  },
  {
   "cell_type": "markdown",
   "metadata": {},
   "source": [
    "## Travailler avec Magrit"
   ]
  },
  {
   "cell_type": "markdown",
   "metadata": {},
   "source": [
    "### Différent types de représentations"
   ]
  },
  {
   "cell_type": "markdown",
   "metadata": {},
   "source": [
    "Magrit est un outil de cartographie en ligne. Il facilite, notamment grâce à son interface simple et minimal, la création de cartes de divers types. Nous pouvons commencer à explorer l'outil en partant de ces différents types de cartes qu'il est possible de créer.\n",
    "\n"
   ]
  },
  {
   "cell_type": "markdown",
   "metadata": {},
   "source": [
    "<img src=\"magrit/type_representation.png\"/>"
   ]
  },
  {
   "cell_type": "markdown",
   "metadata": {},
   "source": [
    "A travers cet interface, il est possible de sélectionner le type de représentation que l'on souhaite produire. Ici, nous nous intéresserons à un certain nombre d'entre eux permettant de produire des cartes thématiques. On peut retrouver une description détaillée de chaque type de représentation à [cette adresse](http://magrit.cnrs.fr/static/book/carto_fr.html)."
   ]
  },
  {
   "cell_type": "markdown",
   "metadata": {},
   "source": [
    "### Charger les données"
   ]
  },
  {
   "cell_type": "markdown",
   "metadata": {},
   "source": [
    "Dans Magrit, on peut charger simplement ses données en **glisser-déposer** dans cette boîte de dialogue."
   ]
  },
  {
   "cell_type": "markdown",
   "metadata": {},
   "source": [
    "<img src=\"magrit/import_donnees.png\"/>"
   ]
  },
  {
   "cell_type": "markdown",
   "metadata": {},
   "source": [
    "Tout d'abord, on peut charger un **fond de carte**. Pour cela, deux options :\n",
    "* Sélectionne un fond de carte à partir de la bibliothèque de Magrit\n",
    "* Importer son propre fond de carte en le déposer dans la boîte de dialogue\n",
    "\n",
    "Ensuite, il s'agit simplement d'importer les **données attributaires**, c'est-à-dire, les **données thématiques** qui représentent l'objet que l'on souhaite cartographier.\n",
    "\n",
    "Voyons tout de suite à partir d'un premier exemple comment procéder."
   ]
  },
  {
   "cell_type": "markdown",
   "metadata": {},
   "source": [
    "### Premier exemple"
   ]
  },
  {
   "cell_type": "markdown",
   "metadata": {},
   "source": [
    "Dans ce premier exemple, nous travaillerons à partir de trois jeux de données différents :\n",
    "* Un jeu de données recensant les stations Vélov' dans la métropole lyonnaise (https://www.data.gouv.fr/en/datasets/stations-velov-de-la-metropole-de-lyon/)\n",
    "* Un jeu de données recensant les communes de la métropole lyonnaise (https://data.grandlyon.com/jeux-de-donnees/communes-metropole-lyon/donnees)\n",
    "* Un jeu de données recensant les voies cyclables dans la métropole lyonnaise (https://data.grandlyon.com/jeux-de-donnees/amenagements-cyclables-metropole-lyon/donnees)"
   ]
  },
  {
   "cell_type": "markdown",
   "metadata": {},
   "source": [
    "#### Charger les données de fond de carte dans Magrit"
   ]
  },
  {
   "cell_type": "markdown",
   "metadata": {},
   "source": [
    "Dans notre cas, nous allons importer notre propre **fond de carte**. On peut ainsi sélectionner le fichier **\"adr_voie_lieu.adrcomgl.shp\"** ainsi que les trois autres fichiers associés (.dbf, .prj, .shx) et les glisser-déposer dans la boîte de dialogue du chargement des données de Magrit. "
   ]
  },
  {
   "cell_type": "markdown",
   "metadata": {},
   "source": [
    "<img src=\"magrit/import_fond.png\"/>"
   ]
  },
  {
   "cell_type": "markdown",
   "metadata": {},
   "source": [
    "On sélectionnera **\"Fond de carte principal\"** comme type d'élément après l'import des données."
   ]
  },
  {
   "cell_type": "markdown",
   "metadata": {},
   "source": [
    "<img src=\"magrit/typage_donnees.png\"/>"
   ]
  },
  {
   "cell_type": "markdown",
   "metadata": {},
   "source": [
    "A ce stade, nous ne chercherons pas à explorer plus en détail la question du **typage des données** que l'on abordera après ce bref panorama de Magrit. On peut simplement confirmer directement pour cette carte."
   ]
  },
  {
   "cell_type": "markdown",
   "metadata": {},
   "source": [
    "#### Insérer un deuxième jeu de données"
   ]
  },
  {
   "cell_type": "markdown",
   "metadata": {},
   "source": [
    "Ensuite, on peut charger notre deuxième jeu de données qui contient les géolocalisation des bornes de Vélov' à Lyon. Comme il ne s'agit de pas de notre fond de carte, on peut sélectionner **\"Fond de carte d'habillage\"**."
   ]
  },
  {
   "cell_type": "markdown",
   "metadata": {},
   "source": [
    "<img src=\"magrit/fond_habillage.png\"/>"
   ]
  },
  {
   "cell_type": "markdown",
   "metadata": {},
   "source": [
    "#### Insérer les données linéaires des voies cyclables"
   ]
  },
  {
   "cell_type": "markdown",
   "metadata": {},
   "source": [
    "A présent, on peut ajouter le jeu de données qui contient les représentations linéaires des voies cyclables dans la métropole de Lyon. Pour cela, on peut glisser déposer le fichier **\"pvo_patrimoine_voirie.pvoamenagementcyclable.shp\"** et les autres fichiers associés (.dbf, .prj, .shx). Même chose ici, on choisira de l'ajouter comme **\"Fond de carte d'habillage\"**."
   ]
  },
  {
   "cell_type": "markdown",
   "metadata": {},
   "source": [
    "#### Insérer les données surfaciques des plans d'eau"
   ]
  },
  {
   "cell_type": "markdown",
   "metadata": {},
   "source": [
    "Enfin, on peut ajouter la dernière couche de données qui contient les représentations surfaciques des plans et cours d'eau sur la métropole de Lyon. On glisse ainsi le fichier **\"fpc_fond_plan_communaut.fpcplandeau.shp\"** et les autres fichiers associés (.dbf, .prj, .shx). A nouveau, on choisira de l'ajouter comme **\"Fond de carte d'habillage\"**."
   ]
  },
  {
   "cell_type": "markdown",
   "metadata": {},
   "source": [
    "#### Premier coup d'oeil à notre carte"
   ]
  },
  {
   "cell_type": "markdown",
   "metadata": {},
   "source": [
    "Bon, c'est pas incroyable pour l'instant en terme de rendu. Néanmoins, nous avons chargé toutes nos couches de données et nous pouvons passer à la suite dans notre exploration de l'interface de Magrit."
   ]
  },
  {
   "cell_type": "markdown",
   "metadata": {},
   "source": [
    "<img src=\"export/brut_velo_lyon.svg\"/>"
   ]
  },
  {
   "cell_type": "markdown",
   "metadata": {},
   "source": [
    "### Gestion des couches"
   ]
  },
  {
   "cell_type": "markdown",
   "metadata": {},
   "source": [
    "Voyons maintenant le troisième onglet dans l'interface de Magrit pour gérer les couches que l'on ajoute à notre représentation cartographique. On peut cliquer sur le paneau **\"Gestion des couches\"** pour visualiser l'ensemble des couches qui sont actuellement superposées sur le canevas."
   ]
  },
  {
   "cell_type": "markdown",
   "metadata": {},
   "source": [
    "<img src=\"magrit/gestion_couches.png\"/>"
   ]
  },
  {
   "cell_type": "markdown",
   "metadata": {},
   "source": [
    "Détaillons rapidement la fonction des différentes icônes (en partant de la gauche) permettant d'interagir avec chaque couche :\n",
    "* La première icône, en forme d'oeil, permet d'afficher ou de masquer la couche en question sur le canevas\n",
    "* La deuxième icône, en forme de tableau, permet d'afficher la \"table de données\", donc chaque ligne associée à un figuré sur le canevas\n",
    "* La troisième icône, en forme de loupe, permet de centrer l'affichage du canevas sur la couche en question\n",
    "* La quatrième icône, en forme d'engrenage, permet d'ouvrir une boîte de dialogue qui offre des options de paramétrages multiples\n",
    "* La cinquième icône, en forme de corbeille, permet simplement de supprimer la couche\n",
    "\n",
    "Comme les couches sont superposées les unes aux autres, on peut glisser chaque couche pour modifier l'ordre de superposition, en sachant que **plus la couche est en haut de la liste et plus elle se situe à l'avant-plan**.\n",
    "\n",
    "Dans notre cas, nous allons pouvoir modifier l'ordre de superposition des couches pour avoir un résultat un peu plus lisible :\n",
    "* Passons la couche représentant les cours d'eau à l'avant-dernier plan\n",
    "* Passons la couche représentant les stations Vélov' au premier plan\n",
    "* Passons la couche représentant les voies cyclables au second plan"
   ]
  },
  {
   "cell_type": "markdown",
   "metadata": {},
   "source": [
    "#### Paramétrer une couche"
   ]
  },
  {
   "cell_type": "markdown",
   "metadata": {},
   "source": [
    "En cliquant sur l'**icône engrenage**, on peut ouvrir la boîte de dialogue de paramétrage d'une couche. A partir de là, on peut modifier toute une série de **paramètres graphiques**, notamment.\n",
    "\n",
    "Jouons un peu avec ces paramètres pour tenter de rendre notre représentation cartographique un peu plus lisible."
   ]
  },
  {
   "cell_type": "markdown",
   "metadata": {},
   "source": [
    "<img src=\"export/velo_lyon.svg\"/>"
   ]
  },
  {
   "cell_type": "markdown",
   "metadata": {},
   "source": [
    "Bon, c'est déjà un peu mieux. Essayons d'ajouter à cela des labels pour afficher les noms des communes. Pour ce faire, il faut se rendre dans la couche de notre fond de carte qui contient les données sur les communes de la métropole de Lyon.\n",
    "\n",
    "On clique sur l'**icône engrenage** pour ouvrir la boîte de dialogue de ses paramètres et on peut cliquer sur l'option **\"Génération de labels pour cette couche\"**."
   ]
  },
  {
   "cell_type": "markdown",
   "metadata": {},
   "source": [
    "<img src=\"magrit/generer_labels.png\"/>"
   ]
  },
  {
   "cell_type": "markdown",
   "metadata": {},
   "source": [
    "Ensuite, on peut sélectionner la colonne qui contient les informations que l'on souhaite aposer sur la carte, dans notre cas, on choisira **la colonne \"nom\"**."
   ]
  },
  {
   "cell_type": "markdown",
   "metadata": {},
   "source": [
    "<img src=\"magrit/labels_nom.png\"/>"
   ]
  },
  {
   "cell_type": "markdown",
   "metadata": {},
   "source": [
    "A priori, les labels seront un peu trop nombreux, ce qui va surcharger les informations sur notre représentation. Voyons cela de plus près."
   ]
  },
  {
   "cell_type": "markdown",
   "metadata": {},
   "source": [
    "<img src=\"export/velo_lyon_labels.svg\"/>"
   ]
  },
  {
   "cell_type": "markdown",
   "metadata": {},
   "source": [
    "Effectivement, le rendu n'est pas incroyable et nécessite un travail de design et de reprise à l'aide d'un logiciel de dessin plus approprié pour ce type de travail (notamment, le logiciel libre InkScape qui permet de travailler directement à partir des exports au format SVG que l'on peut faire avec Magrit)."
   ]
  },
  {
   "cell_type": "markdown",
   "metadata": {},
   "source": [
    "### Habillage et mise en page"
   ]
  },
  {
   "cell_type": "markdown",
   "metadata": {},
   "source": [
    "Avant d'exporter notre travail final, il s'agit d'ajouter des informations complémentaires qui doivent nécessairement figurer sur toute carte proprement réalisée. On pense ici notamment à :\n",
    "* Le titre de la carte\n",
    "* La légende\n",
    "* L'orientation (on indiquera pour cela généralement une flèche pointant vers le nord)\n",
    "* L'échelle cartographique"
   ]
  },
  {
   "cell_type": "markdown",
   "metadata": {},
   "source": [
    "<img src=\"magrit/habillage.png\"/>"
   ]
  },
  {
   "cell_type": "markdown",
   "metadata": {},
   "source": [
    "Certaines opérations ici, notamment l'affichage d'une légende, nécessite de retourner dans les options des couches pour préciser quels éléments on souhaite garder pour la légende."
   ]
  },
  {
   "cell_type": "markdown",
   "metadata": {},
   "source": [
    "<img src=\"magrit/legende_velov.png\"/>"
   ]
  },
  {
   "cell_type": "markdown",
   "metadata": {},
   "source": [
    "Voyons le résultat après ajout des éléments d'habillage."
   ]
  },
  {
   "cell_type": "markdown",
   "metadata": {},
   "source": [
    "<img src=\"export/velo_lyon_final.svg\"/>"
   ]
  },
  {
   "cell_type": "markdown",
   "metadata": {},
   "source": [
    "Bon, c'est mieux mais ce n'est toujours pas incroyable. Si Magrit permet d'effectuer un travail préalable grossier de design et de mise en forme, la plupart du temps, il sera nécessaire de passer un peu de temps avec un logiciel de dessin pour finaliser la carte.\n",
    "\n",
    "Néanmoins, avant de pouvoir retravailler la carte avec un autre logiciel, il s'agit bien évidemment d'exporter le travail réalisé."
   ]
  },
  {
   "cell_type": "markdown",
   "metadata": {},
   "source": [
    "### Export de la carte"
   ]
  },
  {
   "cell_type": "markdown",
   "metadata": {},
   "source": [
    "Une fois que la représentation cartographique apparaît suffisamment satisfaisante comme premier jet avant finalisation éventuelle à l'aide d'un logiciel de dessin, il nous faut donc exporter la carte.\n",
    "\n",
    "Magrit offre trois options d'export :\n",
    "* Une option SVG\n",
    "* Une option PNG\n",
    "* Une option GeoJSON\n",
    "\n",
    "L'option SVG est une **sortie vectorielle**, cela signifie que toutes les formes sont représentées sous la forme de vecteurs et non d'images définies à partir d'un nombre donné de pixels. Une **image vectorielle** a le grand avantage de s'adapter à la taille de l'affichage que l'on choisira et ainsi, elle apparaît **particulièrement indiquée pour un affichage sur un support numérique**.\n",
    "\n",
    "L'option PNG est une **sortie raster**, c'est-à-dire que les objets sont décrits à partir d'un nombre donné de pixels. Elle a l'inconvénient, par rapport au SVG, de ne pas s'adapter nécessairement à la taille d'affichage : si on zoome grandement sur l'image, on verra les pixels s'afficher.\n",
    "\n",
    "L'option GeoJSON est une **sortie structurée**, au même titre que la sortie SVG, à la différence que le format GeoJSON permet de conserver certaines informations perdues dans un fichier SVG qui ne conserve pas, par exemple, le type de projection utilisé pour construire la carte. Ce type de sortie peut être indiqué si on souhaite retravailler la carte à l'aide d'un autre logiciel de cartographie ou un logiciel de système d'information géographique (SIG) comme QGIS, par exemple."
   ]
  },
  {
   "cell_type": "markdown",
   "metadata": {},
   "source": [
    "#### Affiner le travail de mise en forme avec un logiciel de dessin"
   ]
  },
  {
   "cell_type": "markdown",
   "metadata": {},
   "source": [
    "Comme indiqué plus tôt, notre carte n'est pas vraiment incroyable, notamment du fait de la surcharge d'information dans l'affichage des labels des communes. Pour pallier ce problème, on peut adopter différentes stratégies :\n",
    "* Dans Magrit, on peut contrôler les labels que l'on souhaite afficher en fonction de critères spécifiques qui doivent être évaluables dans le jeu de données de la couche dont sont extraits les labels (par exemple, si la couche contient des informations sur le nombre d'habitants de chaque commune, on pourra choisir d'afficher uniquement les communes qui compte plus de 50 000 habitants)\n",
    "* A l'aide d'un logiciel de dessin, on peut remplacer certains labels et utiliser un système de report en indiquant simplement des labels numérotés (1, 2, 3, etc.) ; dans la légende, on peut ensuite construire une table de report qui permet de retrouver le nom de la commune correspondante au nombre affiché sur la carte\n",
    "\n",
    "Ci-dessous, un exemple de la même carte réaliser avec le logiciel QGIS et finalisée à l'aide d'un logiciel de dessin vectoriel.\n",
    "\n",
    "Pour affiner la mise en forme, on a :\n",
    "* Ajouter un tampon sous chaque label de commune (un léger liseré blanc pour faire ressortir le label sur le fond plus sombre)\n",
    "* Alléger les données de la couche contenant les représentations surfaciques des plans d'eau pour la simplifier"
   ]
  },
  {
   "cell_type": "markdown",
   "metadata": {},
   "source": [
    "<img src=\"export/carte_velo.png\"/>"
   ]
  },
  {
   "cell_type": "markdown",
   "metadata": {},
   "source": [
    "## Qu'est-ce qu'une donnée structurée ?"
   ]
  },
  {
   "cell_type": "markdown",
   "metadata": {},
   "source": [
    "Une **donnée structurée** est définie avant tout par son **caractère formel** : c'est la forme qu'elle prend qui importe et qui rend possible d'effectuer certaines opérations (tri, groupes, calculs, etc.). De façon plus concrète, il s'agit de données qui sont disposées d'une façon particulière qui rend notamment possible leur **traitement automatique**.\n",
    "\n",
    "Pour ce qui concerne l'information géographique et la cartographie, les données structurées les plus fréquemment utilisées sont sous la forme :\n",
    "* De bases de données (SQL)\n",
    "* De fichiers tabulaires (CSV, Excel)\n",
    "* De fichiers balisés (XML)\n",
    "* Et d'autres formats plus spécifiques à la cartographie et aux SIG (Systèmes d'information géographiques) (Shapefile)"
   ]
  },
  {
   "cell_type": "markdown",
   "metadata": {},
   "source": [
    "### Les fichiers tabulaires"
   ]
  },
  {
   "cell_type": "markdown",
   "metadata": {},
   "source": [
    "Dans le contexte de la cartographie numérique et des systèmes d'information géographiques, on parle de **\"données attributaires\"** pour désigner les données structurées qui contiennent les **informations thématiques** qui alimentent le contenu de la carte. Des exemples de données attributaires sont :\n",
    "* Les salaires moyens des habitants d'une commune de France\n",
    "* Le PIB de chaque pays dans le monde\n",
    "* Le fait qu'un pays soit membre ou non de l'espace Schengen\n",
    "* Le gradient de liberté de la presse dans les pays du monde défini en fonction d'un certain nombre de critères\n",
    "\n",
    "Un fichier tabulaire qui représente des **données attributaires** est composé de **plusieurs lignes** qui contiendront, chacune, une information relative à un cas particulier. Si on reprend le premier exemple du salaire moyen des habitants d'une commune, chaque ligne du tableau de données attributaires contiendra l'information relative à une commune de France. Pour structurer ce type de données, on travaillera habituellement avec un tableur (Microsoft Excel, Libre Office Calc, Numbers, etc.), bien que l'on puisse utiliser divers autres outils.\n",
    "\n",
    "Chaque **colonne** contient une même catégorie d'information particulière (on parle généralement de **variable**). On parle de **type de données** pour caractériser, notamment (et en particulier dans le contexte de la cartographie), les façons dont il est possible de les représenter. De façon plus générale, connaître le type d'une donnée permet de comprendre comment on peut les manipuler.\n",
    "\n",
    "Il importe d'appliquer une série de **bonnes pratiques** lorsque l'on construit ou que l'on travaille avec des **données attributaires** :\n",
    "* Nommer l'en-tête de chaque colonne avec un titre relativement bref qui décrit son contenu en évitant d'utiliser des caractères spéciaux (exemple : commune, pays, latitude, longitude, revenu/hab, etc.)\n",
    "* Définir une colonne particulière qui servira d'identifiant unique (cela peut correspondre à une norme particulière, ou à un code que l'on aura défini soi-même : dans ce cas, on peut, par exemple, se limiter à numéroter simplement les lignes de 1 à $n$, selon le nombre de lignes donc)\n",
    "* Si le tableau contient des données manquantes, on préférera noter explicitement l'information en inscrivant NA, N/A"
   ]
  },
  {
   "cell_type": "markdown",
   "metadata": {},
   "source": [
    "### Les fichiers balisés (ou \"objets\")"
   ]
  },
  {
   "cell_type": "markdown",
   "metadata": {},
   "source": [
    "Il s'agit de fichiers dans lesquels les informations sont séparés par des **balises**. Chaque balise délimite ainsi un type d'information particulier auquel on peut également adosser un **attribut** pour qualifier la donnée contenue dans une balise."
   ]
  },
  {
   "cell_type": "markdown",
   "metadata": {},
   "source": [
    "<img src=\"magrit/gml_wiki.png\"/>"
   ]
  },
  {
   "cell_type": "markdown",
   "metadata": {},
   "source": [
    "Concrètement, voyons avec cet extrait de la page Wikipedia [Geography Markup Language](https://en.wikipedia.org/wiki/Geography_Markup_Language) (GML) comment un fichier de type **XML** se présente (ici il s'agit d'un fichier **GML**, qui est une grammaire XML dédiée à la représentation d'objets géoréférencés).\n",
    "\n",
    "Une balise est une chaîne de caractère encadrée par des chevrons (**<** et **>**). Elle est en réalité décomposée en deux parties :\n",
    "* Une balise ouvrante, qui se note `<ma_balise>`\n",
    "* Une balise fermante, qui se note `</ma_balise>` (on ajoute un slash (**/**) après le premier chevron)\n",
    "\n",
    "Il s'agit simplement d'une **représentation structurée** différente que l'on peut réduire à un tableau si on le souhaite. L'avantage de ce type de format est qu'il permet davantage de flexibilité et d'imbriquer des **dimensions multiples** et aller au-delà des limites de la forme tabulaire qui limite à **deux dimensions** (ligne, colonne).\n",
    "\n",
    "D'autres formats comme le **GeoJSON** sont relativement similaires, outre la syntaxe qui diffère. Ces formats permettent également de représenter plus facilement des données de **grandes dimensions**."
   ]
  },
  {
   "cell_type": "markdown",
   "metadata": {},
   "source": [
    "### <div id=\"différents_types_de_donnees\">Différent types de données</div>"
   ]
  },
  {
   "cell_type": "markdown",
   "metadata": {},
   "source": [
    "On peut distinguer globalement **deux grands types de données** en cartographie. Ces deux grandes catégories se décomposent en sous-catégories :\n",
    "* Les **données quantitatives** : elles sont numériques, donc mesurables\n",
    "    * Les données quantitatives **continues**\n",
    "        * Les données continues **absolues**\n",
    "        * Les données continues **relatives**\n",
    "    * Les données quantitatives **discrètes**\n",
    "* Les **données qualitatives** : elles ne sont pas mesurables (des noms, des qualités, etc.)\n",
    "    * Les données qualitatives **ordinales** : on peut les classer (très important, moins important, très grand, très petit, etc.)\n",
    "    * Les données qualitatives **nominales** : on ne peut pas les ordonner (nom d'entreprises, codes postaux, religions, langues, etc.)"
   ]
  },
  {
   "cell_type": "markdown",
   "metadata": {},
   "source": [
    "### Deuxième exemple"
   ]
  },
  {
   "cell_type": "markdown",
   "metadata": {},
   "source": [
    "Dans ce deuxième exemple très simple, on a généré des données de façon aléatoire qui ne représentent aucune réalité concrète. Il s'agit d'un jeu de données qui comprend cinq informations différentes :\n",
    "* Un identifiant unique qui identifie chaque ligne du tableau\n",
    "* Le nom d'une entreprise fictive\n",
    "* La latitude de l'emplacement de son siège social\n",
    "* La longitude de l'emplacement de son siège social\n",
    "* Son type d'activité"
   ]
  },
  {
   "cell_type": "markdown",
   "metadata": {},
   "source": [
    "<table class=\"table table-bordered table-hover table-condensed\">\n",
    "<thead><tr><th title=\"Field #1\">id</th>\n",
    "<th title=\"Field #2\">company_name</th>\n",
    "<th title=\"Field #3\">latitude</th>\n",
    "<th title=\"Field #4\">longitude</th>\n",
    "<th title=\"Field #5\">type</th>\n",
    "</tr></thead>\n",
    "<tbody><tr>\n",
    "<td align=\"right\">1</td>\n",
    "<td>Corkery, Stark and Wolff</td>\n",
    "<td align=\"right\">27.974248</td>\n",
    "<td align=\"right\">120.632896</td>\n",
    "<td>retail</td>\n",
    "</tr>\n",
    "<tr>\n",
    "<td align=\"right\">2</td>\n",
    "<td>Hettinger-O&#39;Hara</td>\n",
    "<td align=\"right\">10.108752</td>\n",
    "<td align=\"right\">123.2710674</td>\n",
    "<td>energy</td>\n",
    "</tr>\n",
    "<tr>\n",
    "<td align=\"right\">3</td>\n",
    "<td>Feest Group</td>\n",
    "<td align=\"right\">51.3842543</td>\n",
    "<td align=\"right\">58.9999439</td>\n",
    "<td>transport</td>\n",
    "</tr>\n",
    "<tr>\n",
    "<td align=\"right\">4</td>\n",
    "<td>Turner Group</td>\n",
    "<td align=\"right\">9.9847566</td>\n",
    "<td align=\"right\">10.9510315</td>\n",
    "<td>retail</td>\n",
    "</tr>\n",
    "<tr>\n",
    "<td align=\"right\">5</td>\n",
    "<td>Terry, Ward and Prohaska</td>\n",
    "<td align=\"right\">60.0645803</td>\n",
    "<td align=\"right\">30.4842001</td>\n",
    "<td>banking</td>\n",
    "</tr>\n",
    "<tr>\n",
    "<td align=\"right\">6</td>\n",
    "<td>Gorczany-Cruickshank</td>\n",
    "<td align=\"right\">-7.6535289</td>\n",
    "<td align=\"right\">110.6749978</td>\n",
    "<td>transport</td>\n",
    "</tr>\n",
    "<tr>\n",
    "<td align=\"right\">7</td>\n",
    "<td>Stanton-Jacobi</td>\n",
    "<td align=\"right\">48.8610504</td>\n",
    "<td align=\"right\">2.3237084</td>\n",
    "<td>transport</td>\n",
    "</tr>\n",
    "<tr>\n",
    "<td align=\"right\">8</td>\n",
    "<td>Tromp LLC</td>\n",
    "<td align=\"right\">18.1821215</td>\n",
    "<td align=\"right\">100.5746224</td>\n",
    "<td>health</td>\n",
    "</tr>\n",
    "<tr>\n",
    "<td align=\"right\">9</td>\n",
    "<td>Eichmann, Gaylord and Grady</td>\n",
    "<td align=\"right\">25.556716</td>\n",
    "<td align=\"right\">110.016031</td>\n",
    "<td>energy</td>\n",
    "</tr>\n",
    "<tr>\n",
    "<td align=\"right\">10</td>\n",
    "<td>Kiehn, Rowe and Wilkinson</td>\n",
    "<td align=\"right\">53.2065166</td>\n",
    "<td align=\"right\">5.8271439</td>\n",
    "<td>retail</td>\n",
    "</tr>\n",
    "<tr>\n",
    "<td align=\"right\">11</td>\n",
    "<td>Harber, Bins and Nader</td>\n",
    "<td align=\"right\">31.7579946</td>\n",
    "<td align=\"right\">25.0792189</td>\n",
    "<td>insurance</td>\n",
    "</tr>\n",
    "<tr>\n",
    "<td align=\"right\">12</td>\n",
    "<td>Lehner-Mitchell</td>\n",
    "<td align=\"right\">30.265327</td>\n",
    "<td align=\"right\">108.705237</td>\n",
    "<td>banking</td>\n",
    "</tr>\n",
    "<tr>\n",
    "<td align=\"right\">13</td>\n",
    "<td>Lowe and Sons</td>\n",
    "<td align=\"right\">43.438342</td>\n",
    "<td align=\"right\">126.330439</td>\n",
    "<td>transport</td>\n",
    "</tr>\n",
    "<tr>\n",
    "<td align=\"right\">14</td>\n",
    "<td>Nitzsche, Rau and McClure</td>\n",
    "<td align=\"right\">15.6122706</td>\n",
    "<td align=\"right\">-86.0784459</td>\n",
    "<td>retail</td>\n",
    "</tr>\n",
    "<tr>\n",
    "<td align=\"right\">15</td>\n",
    "<td>Tillman Inc</td>\n",
    "<td align=\"right\">50.7113724</td>\n",
    "<td align=\"right\">25.8291867</td>\n",
    "<td>energy</td>\n",
    "</tr>\n",
    "<tr>\n",
    "<td align=\"right\">16</td>\n",
    "<td>Schmeler, Parisian and O&#39;Reilly</td>\n",
    "<td align=\"right\">-6.1306709</td>\n",
    "<td align=\"right\">23.5966577</td>\n",
    "<td>energy</td>\n",
    "</tr>\n",
    "<tr>\n",
    "<td align=\"right\">17</td>\n",
    "<td>Orn-Hackett</td>\n",
    "<td align=\"right\">-8.074933</td>\n",
    "<td align=\"right\">112.6079459</td>\n",
    "<td>banking</td>\n",
    "</tr>\n",
    "<tr>\n",
    "<td align=\"right\">18</td>\n",
    "<td>Metz, Hayes and Hilpert</td>\n",
    "<td align=\"right\">-6.406039</td>\n",
    "<td align=\"right\">106.899566</td>\n",
    "<td>transport</td>\n",
    "</tr>\n",
    "<tr>\n",
    "<td align=\"right\">19</td>\n",
    "<td>Bauch LLC</td>\n",
    "<td align=\"right\">51.7211356</td>\n",
    "<td align=\"right\">5.2985109</td>\n",
    "<td>service</td>\n",
    "</tr>\n",
    "<tr>\n",
    "<td align=\"right\">20</td>\n",
    "<td>Ankunding Inc</td>\n",
    "<td align=\"right\">29.56492</td>\n",
    "<td align=\"right\">121.52229</td>\n",
    "<td>banking</td>\n",
    "</tr>\n",
    "</tbody></table>"
   ]
  },
  {
   "cell_type": "markdown",
   "metadata": {},
   "source": [
    "Grâce aux colonnes qui représentent la latitude et la longitude de chaque point repérant le siège social d'une entreprise fictive, il est alors possible de réaliser une carte très simple localisant chaque siège sociale d'entreprise à la surface du globe.\n",
    "\n",
    "Même si l'objectif n'est pas ici d'explorer en détail les questions liées aux **systèmes de projection**, il est important néanmoins de noter que chaque système de projection possède des spécificités particulières qui permettent de représenter la Terre dans le plan. Dans notre cas, nous utilisons le **standard WSG 84**, largement utilisé pour cartographier des données GPS à l'échelle du monde."
   ]
  },
  {
   "cell_type": "markdown",
   "metadata": {},
   "source": [
    "<img src=\"export/carte_entreprise.svg\"/>"
   ]
  },
  {
   "cell_type": "markdown",
   "metadata": {},
   "source": [
    "Dans cette représentation cartographique, on s'appuie sur la colonne **\"type d'activité\"** pour faire varier la couleur du figuré (un **simple point localisant le siège social de l'entreprise**) : on a ainsi une donnée **qualitative nominale** qui ne permet pas d'ordonner les entreprises entre elles, mais néanmoins de les **catégoriser**."
   ]
  },
  {
   "cell_type": "markdown",
   "metadata": {},
   "source": [
    "### Données relationnelles"
   ]
  },
  {
   "cell_type": "markdown",
   "metadata": {},
   "source": [
    "Nous avons vu comment représenter des **données ponctuelles** à l'aide de couples de **coordonnées latitute et longitude**, mais comment procéder lorsqu'il s'agit de représenter des **données surfaciques** ou des **données linéaires** ?\n",
    "\n",
    "Dans ce cas, il nous faut utiliser les **coordonnées décrites par la couche du fond de carte** pour décrire la surface à laquelle on souhaite attacher une série d'informations. Concrètement, on travaillera alors avec deux fichiers distincts :\n",
    "* D'une part, un fichier décrivant le fond de carte\n",
    "    * Habituellement, on trouve rarement ce type de fichier au format CSV, mais plutôt dans des formats dits géographiques (SHP, GeoJSON, KML, GML, etc.)\n",
    "    * Concrètement, si on prend l'exemple des pays du monde, le fichier contiendra l'équivalent d'une ligne par pays et, en lieu et place de coordonnées ponctuelles, on trouvera une liste de coordonnées, permettant, en les joignant, de décrire un polygone représentant les frontières du pays en question\n",
    "* D'autre part, un fichier décrivant les données attributaires\n",
    "\n",
    "On parle, dans ce cas, de **données relationnelles**, car il s'agira d'associer deux fichiers sur la base d'un **objet commun**. Si on continue d'utiliser l'exemple des différents pays du monde, l'objectif serait donc, sur la base du nom de chaque pays, associé la colonne du fichier de fond de carte contenant le nom du pays, ou un **identifiant unique** permettant précisémment de **l'identifier sans équivoque possible**, avec la colonne d'un second fichier où chaque pays serait **décrit de façon strictement identique**."
   ]
  },
  {
   "cell_type": "markdown",
   "metadata": {},
   "source": [
    "### Effectuer une jointure"
   ]
  },
  {
   "cell_type": "markdown",
   "metadata": {},
   "source": [
    "Voyons à présent plus concrètement comment procéder à ce que l'on appelle une **jointure** dans les opérations d'algèbre relationnelle. Concrètement, en essayant de visualiser cette opération à partir de **représentations tabulaires** des données (fichier Excel ou CSV), tentons de nous représenter visuellement la façon de procéder.\n",
    "\n",
    "Dans le schéma ci-dessous, on peut ainsi voir la façon dont une **jointure** que l'on dit \"de 1 à 1\" se déploie. Il s'agit tout simplement de créer un nouveau tableau à partir de la fusion de deux tableaux distincts. Ainsi, en associant des données attributaires sur le taux de chômage en Europe avec un fond de carte contenant un **identifiant unique** pour chaque pays, on peut associer des données thématiques à des données géographiques (le fond de carte)."
   ]
  },
  {
   "cell_type": "markdown",
   "metadata": {},
   "source": [
    "<img src=\"export/jointure.svg\"/>"
   ]
  },
  {
   "cell_type": "markdown",
   "metadata": {},
   "source": [
    "### Troisième exemple"
   ]
  },
  {
   "cell_type": "markdown",
   "metadata": {},
   "source": [
    "Dans ce troisième exemple, nous travaillerons à partir d'un jeu de données nettoyé à partir des données d'Eurostat (https://ec.europa.eu/eurostat/databrowser/view/tepsr_wc170/default/table?lang=fr) sur le taux de chômage en Europe."
   ]
  },
  {
   "cell_type": "markdown",
   "metadata": {},
   "source": [
    "Commençons par jeter un oeil à notre jeu de données : avant de se lancer dans le travail de conception d'une carte, il s'agit d'abord d'explorer et de comprendre les données utilisées pour ce faire."
   ]
  },
  {
   "cell_type": "markdown",
   "metadata": {},
   "source": [
    "<table class=\"table table-bordered table-hover table-condensed\">\n",
    "<thead><tr><th title=\"Field #1\">Country</th>\n",
    "<th title=\"Field #2\">2019</th>\n",
    "<th title=\"Field #3\">Nom</th>\n",
    "</tr></thead>\n",
    "<tbody><tr>\n",
    "<td>AT</td>\n",
    "<td>8,5</td>\n",
    "<td>Autriche</td>\n",
    "</tr>\n",
    "<tr>\n",
    "<td>BE</td>\n",
    "<td>14,2</td>\n",
    "<td>Belgique</td>\n",
    "</tr>\n",
    "<tr>\n",
    "<td>BG</td>\n",
    "<td>8,9</td>\n",
    "<td>Bulgarie</td>\n",
    "</tr>\n",
    "<tr>\n",
    "<td>CH</td>\n",
    "<td>8</td>\n",
    "<td>Suisse</td>\n",
    "</tr>\n",
    "<tr>\n",
    "<td>CY</td>\n",
    "<td>16,6</td>\n",
    "<td>Chypre</td>\n",
    "</tr>\n",
    "<tr>\n",
    "<td>CZ</td>\n",
    "<td>5,6</td>\n",
    "<td>République Tchèque</td>\n",
    "</tr>\n",
    "</tbody></table>"
   ]
  },
  {
   "cell_type": "markdown",
   "metadata": {},
   "source": [
    "Nous avons donc ici un jeu de données assez simple qui contient **trois colonnes** :\n",
    "* Une première colonne \"Country\" qui contient des codes d'abréviation pour chaque pays qui sera utile pour effectuer notre jointure\n",
    "* Une deuxième colonne contenant nos données thématiques, celle à partir desquelles on souhaitera faire varier les représentations sur notre carte\n",
    "* Une troisième colonne qui contient le nom complet de chaque pays et qui sera utile pour afficher les labels sur le canevas "
   ]
  },
  {
   "cell_type": "markdown",
   "metadata": {},
   "source": [
    "#### Choix de fond de carte"
   ]
  },
  {
   "cell_type": "markdown",
   "metadata": {},
   "source": [
    "Pour ce deuxième exemple, nous allons partir d'un fond de carte de la bibliothèque de Magrit. Pour choisir un fond de carte dans la bibliothèque de Magrit, on peut cliquer, dans la fenêtre **\"Import des données\"** sur le menu **\"Sélection d'un fond de carte d'exemple\"**."
   ]
  },
  {
   "cell_type": "markdown",
   "metadata": {},
   "source": [
    "<img src=\"magrit/selection_fond.png\"/>"
   ]
  },
  {
   "cell_type": "markdown",
   "metadata": {},
   "source": [
    "Nous choisirons ici le fond de carte **\"Nuts 0 (2013) Pays européens (Polygones)\"**."
   ]
  },
  {
   "cell_type": "markdown",
   "metadata": {},
   "source": [
    "<img src=\"magrit/bib_magrit_fond.png\"/>"
   ]
  },
  {
   "cell_type": "markdown",
   "metadata": {},
   "source": [
    "Une fois le fond de carte chargé, on peut importer nos données en faisant glisser le fichier **\"unemployment_europe_2019.csv\"** dans la fenêtre **\"Import des données\"**.\n",
    "\n",
    "Lorsque notre espace de travail contient un fond de carte et que l'on importe un jeu de données ne contenant pas d'informations géoréférencées, Magrit propose automatiquement d'effectuer une **jointure entre les deux couches de données**. On peut accepter directement."
   ]
  },
  {
   "cell_type": "markdown",
   "metadata": {},
   "source": [
    "<img src=\"magrit/auto_jointure.png\"/>"
   ]
  },
  {
   "cell_type": "markdown",
   "metadata": {},
   "source": [
    "L'étape suivante consiste à indiquer à Magrit sur quelles colonnes de chacune de nos deux couches effectuer la jointure."
   ]
  },
  {
   "cell_type": "markdown",
   "metadata": {},
   "source": [
    "<img src=\"magrit/colonne_jointure.png\"/>"
   ]
  },
  {
   "cell_type": "markdown",
   "metadata": {},
   "source": [
    "Comme nous l'avons indiqué plus tôt, il nous faut effectuer notre **jointure à l'aide de deux colonnes** contenant des informations **strictement identiques** : nous choisirons ici **la colonne \"Country\"**, comme on l'a précisé plus tôt, qui contient des **identifiants abrégés uniques** pour chaque pays."
   ]
  },
  {
   "cell_type": "markdown",
   "metadata": {},
   "source": [
    "<img src=\"magrit/attrib_fond.png\"/>"
   ]
  },
  {
   "cell_type": "markdown",
   "metadata": {},
   "source": [
    "La couche de données de notre fond de carte ne contient qu'une seule colonne qui renseigne également l'identifiant unique abrégé de chaque pays. Allons jeter un oeil à cela en cliquant sur l'icône **table des attributs** de la couche de fond de carte."
   ]
  },
  {
   "cell_type": "markdown",
   "metadata": {},
   "source": [
    "<img src=\"magrit/attrib_fond_europe.png\"/>"
   ]
  },
  {
   "cell_type": "markdown",
   "metadata": {},
   "source": [
    "On peut constater effectivement que notre fond de carte contient une colonne qui représente chaque pays sous la forme d'un identifiant unique abrégé : on peut donc effectuer la **jointure entre cette colonne du fond de carte et la colonne \"Country\" du jeu de données du taux de chômage en 2019 en Europe**."
   ]
  },
  {
   "cell_type": "markdown",
   "metadata": {},
   "source": [
    "<img src=\"magrit/jointure_partielle.png\"/>"
   ]
  },
  {
   "cell_type": "markdown",
   "metadata": {},
   "source": [
    "Problème ! Magrit nous confirme qu'il a réussi à effectuer la jointure mais nous demande si l'on souhaite valider le résultat d'une opération qui paraît incomplète : en effet, notre jeu de données ne contient pas autant de lignes qu'il y en a dans le fond de carte et, par ailleurs, certaines lignes de notre jeu de données ne sont pas représentées dans notre fond de carte (Taux de chômage moyen pour l'Europe des 27, celui pour l'Europe des 28, etc.).\n",
    "\n",
    "En validant, on effectuera donc une jointure partielle, uniquement sur les colonnes pour lesquelles il y a une correspondance."
   ]
  },
  {
   "cell_type": "markdown",
   "metadata": {},
   "source": [
    "<img src=\"magrit/na_geometries.png\"/>"
   ]
  },
  {
   "cell_type": "markdown",
   "metadata": {},
   "source": [
    "Nouveau problème ! Magrit nous demande ce que l'on souhaite faire des pays pour lesquels il n'y a pas d'information associée :\n",
    "* Soit les supprimer de la représentation\n",
    "* Soit les conserver, il faudra alors préciser que pour les pays en question les données sont manquantes"
   ]
  },
  {
   "cell_type": "markdown",
   "metadata": {},
   "source": [
    "<img src=\"magrit/typage_donnees_europe.png\"/>"
   ]
  },
  {
   "cell_type": "markdown",
   "metadata": {},
   "source": [
    "#### Choix de la représentation"
   ]
  },
  {
   "cell_type": "markdown",
   "metadata": {},
   "source": [
    "Nous l'avons vu plus tôt, Magrit permet de faciliter le travail de représentation à l'aide d'une typologie de cartes possibles à réaliser à partir du type de données que l'on importe.\n",
    "\n",
    "Dans le cas présent, nous construirons une **carte de ratios** : il s'agira de faire varier la couleur de chaque pays en fonction du taux de chômage qu'il enregistre en 2019. On peut choisir le type de représentation correspondant dans la fenêtre **\"Choix de la représentation\"**."
   ]
  },
  {
   "cell_type": "markdown",
   "metadata": {},
   "source": [
    "<img src=\"magrit/carte_ratio.png\"/>"
   ]
  },
  {
   "cell_type": "markdown",
   "metadata": {},
   "source": [
    "#### Carte de ratios"
   ]
  },
  {
   "cell_type": "markdown",
   "metadata": {},
   "source": [
    "Une fois que l'on a choisi notre option (habituellement, on choisira plutôt la seconde option), s'affiche une nouvelle boîte de dialogue. Celle-ci permet de **typer les données** : pour rappel, on peut se reporter à la section **[\"Différents types de données\"](#differents_types_de_donnees)** pour un panorama des types de données susceptibles de nous intéresser dans la réalisation d'une carte.\n",
    "\n",
    "Dans notre cas, le type de données qui nous intéresse est le **\"Ratio\"** : en se rapportant à la [documentation relative à ce type de représentation](magrit.cnrs.fr/static/book/carto/choro_fr.html), il s'agit de \"données quantitatives calculées à partir de données de stocks dont on fait le rapport ou dont on calcule le taux à partir d'un total\".\n",
    "\n",
    "Dans la typologie que nous avons dressé, on peut traduire cela comme des **données quantitatives continues** (et plus précisément, comme le distingue Magrit entre **ratios** et **stocks**, entre des **données agrégées** dont on extrait, par exemple, la moyenne et des **données absolues** que l'on utilise telles quelles, sans calculer un indicateur quelconque) : en effet, en nous intéressant à un **taux de chômage**, celui-ci peut varier théoriquement entre 0 et 100 et prendre absolument n'importe quelle valeur dans cet intervale.\n",
    "\n",
    "Comme il s'agit de **données continues**, il nous faut, avant de pouvoir les représenter, les **discrétiser** : cela revient à définir plusieurs intervales auxquels on attribuera un figuré ou une couleur particulière pour traduire cette information sur notre carte."
   ]
  },
  {
   "cell_type": "markdown",
   "metadata": {},
   "source": [
    "#### Discrétiser des données quantitatives continues"
   ]
  },
  {
   "cell_type": "markdown",
   "metadata": {},
   "source": [
    "Il existe plusieurs **méthodes de discrétisation** différentes qu'il ne s'agira pas ici de détailler. Pour plus d'informations à ce sujet, on pourra notamment se reporter aux pages 64 à 67 de l'ouvrage de Nicolas Lambert et Christine Zanin, [*Manuel de cartographie*](https://www.armand-colin.com/manuel-de-cartographie-principes-methodes-applications-9782200612856), paru chez Armand Colin en 2016."
   ]
  },
  {
   "cell_type": "markdown",
   "metadata": {},
   "source": [
    "<img src=\"magrit/disc_ratios.png\"/>"
   ]
  },
  {
   "cell_type": "markdown",
   "metadata": {},
   "source": [
    "Une fois le type de représentation choisi, une nouvelle fenêtre **\"Représentation : Carte de ratios\"** s'affiche. En cliquant dessus, on peut afficher la boîte de dialogue ci-dessus.\n",
    "\n",
    "Le **\"Champ\"** permet de préciser sur quelle colonne effectuer la **discrétisation** des données.\n",
    "\n",
    "Le **\"Choix de la discrétisation\"** permet de choisir une méthode pour la **discrétisation**.\n",
    "\n",
    "En cliquant sur l'**icône engrenage**, on peut ouvrir une fenêtre permettant d'afficher toute une série d'informations qui doivent guider les choix de **discrétisation** opérés."
   ]
  },
  {
   "cell_type": "markdown",
   "metadata": {},
   "source": [
    "<img src=\"magrit/disc_options.png\"/>"
   ]
  },
  {
   "cell_type": "markdown",
   "metadata": {},
   "source": [
    "Pour expliquer rapidement la façon de lire ces paramètres, il faut tenir compte de deux éléments :\n",
    "* Le nombre de classes (il permet de définir combien de catégories différentes, donc de niveaux de couleurs différents associer à un intervale de valeurs numériques)\n",
    "* La distribution (le graphique en bâtons permet de lire le nombre d'entités représenté dans chaque catégorie : en ordonnée est représentée le nombre d'entités et en abscisse les valeurs numériques correspondantes qui délimitent chaque catégorie)\n",
    "\n",
    "Dans la partie inférieure, il est possible de définir la palette de couleur pour représenter chaque catégorie ainsi que la couleur pour représenter les entités pour lesquelles les valeurs sont manquantes (c'est important dans notre cas puisque nous avons vu que nous avons certains pays sans données).\n",
    "\n",
    "Une fois les options paramétrées, on peut cliquer sur le bouton **\"Dessiner le résultat\"**."
   ]
  },
  {
   "cell_type": "markdown",
   "metadata": {},
   "source": [
    "<img src=\"magrit/magrit_euro_repo.png\"/>"
   ]
  },
  {
   "cell_type": "markdown",
   "metadata": {},
   "source": [
    "On peut d'emblée noter plusieurs points négatifs qui nécessiteront, là aussi, de retravailler la carte pour finalisation à l'aide d'un logiciel de dessin :\n",
    "* Les labels de chaque pays ne sont pas forcément très lisibles, il faudrait pouvoir ajouter un tampon, par exemple, pour les faire ressortir\n",
    "* Certains labels sont manquants, pour l'Albanie, par exemple, car les chiffres pour ce pays ne sont pas présents dans notre jeu de données"
   ]
  },
  {
   "cell_type": "markdown",
   "metadata": {},
   "source": [
    "### Quatrième exemple"
   ]
  },
  {
   "cell_type": "markdown",
   "metadata": {},
   "source": [
    "Dans ce quatrième exemple, nous travaillerons à partir d'un jeu de données à partir des données de la FAO (Found and agriculture organization) (http://www.fao.org/faostat/en/#data/QC) sur la production de bananes dans le monde en 2018."
   ]
  },
  {
   "cell_type": "markdown",
   "metadata": {},
   "source": [
    "Commeçons par importer nos données. On peut tout d'abord sélectionner un fond de carte à l'échelle du monde dans la bibliothèque des fonds de carte de Magrit, puis glisser-déposer le jeu de données \"fao_bananas_2018_world.csv\".\n",
    "\n",
    "Comme pour l'exemple précédent, on peut effectuer une jointure entre le fond de carte et les données importées.\n",
    "\n",
    "Dans ce cas précis, la situation n'est pas idéale car le mieux serait de pouvoir avoir **un lien non-ambigu entre la façon dont est décrit un pays dans notre fond de carte et la façon dont il est décrit dans le jeu de données thématiques**. Ici, ce n'est pas le cas : une solution de secours peut être d'effectuer directement la jointure entre les noms des pays (tout en tenant compte de la possibilité que la jointure s'effectue mal pour certains cas : noms avec accent et sans accent, parenthèses et détails pour certains pays, etc.). Il faudra alors s'assurer que les dynamiques spatiales principales que l'on souhaite faire ressortir dans notre représentation soient au moins respectées : dans le cas présent, il faudrait que la carte fasse ressortir les plus grands producteurs mondiaux de bananes (en entrant dans le détail des plus petits producteurs, l'information sera dans tous les cas beaucoup moins lisible).\n",
    "\n",
    "Dans le cas présent, il était nécessaire de modifier, au préalable, le nom de la Chine pour la faire apparaître sur la carte correctement, étant donné qu'il s'agit du deuxième producteur mondial de bananes en 2018."
   ]
  },
  {
   "cell_type": "markdown",
   "metadata": {},
   "source": [
    "<img src=\"magrit/carte_stocks.png\"/>"
   ]
  },
  {
   "cell_type": "markdown",
   "metadata": {},
   "source": [
    "Ici, l'objectif est de réaliser une carte à partir du type de représentation **\"Carte de stocks\"** de Magrit. On peut sélectionner ce type de représentation dans la fenêtre **\"Choix de la représentation\"**."
   ]
  },
  {
   "cell_type": "markdown",
   "metadata": {},
   "source": [
    "#### Paramétrer l'affichage des stocks"
   ]
  },
  {
   "cell_type": "markdown",
   "metadata": {},
   "source": [
    "Par défaut, les valeurs affichées ne sont pas vraiment très intéressantes car trop précises."
   ]
  },
  {
   "cell_type": "markdown",
   "metadata": {},
   "source": [
    "<img src=\"magrit/legende_param.png\"/>"
   ]
  },
  {
   "cell_type": "markdown",
   "metadata": {},
   "source": [
    "En faisant un **clic droit** sur l'élément de la légende à éditer, on peut entrer dans un menu de paramétrage en sélectionnant **\"Changer le style...\"**."
   ]
  },
  {
   "cell_type": "markdown",
   "metadata": {},
   "source": [
    "<img src=\"magrit/pers_valeurs.png\"/>"
   ]
  },
  {
   "cell_type": "markdown",
   "metadata": {},
   "source": [
    "Ensuite, on peut cliquer sur le menu **\"Personnaliser les valeurs des symboles...\"** et arrondir les valeurs limites pour les rendre plus lisibles (la représentation graphique s'adapte automatiquement à la valeur entrée)."
   ]
  },
  {
   "cell_type": "markdown",
   "metadata": {},
   "source": [
    "<img src=\"export/bananes_monde.png\"/>"
   ]
  },
  {
   "cell_type": "markdown",
   "metadata": {},
   "source": [
    "#### Afficher des labels conditionnels"
   ]
  },
  {
   "cell_type": "markdown",
   "metadata": {},
   "source": [
    "Même si la carte paraît relativement lisible en l'état, on peut faire le test d'afficher, par exemple, les noms des cinq premiers producteurs de bananes en 2018 dans le monde.\n",
    "\n",
    "Pour cela, il nous faut générer des labels et les afficher en fonction d'une condition qui sera posée par la quantité de bananes produites par le cinquième producteur mondial en 2018.\n",
    "\n",
    "Il nous faut travailler à partir de la couche qui représente les figurés en cercles proportionnels et cliquer sur l'**icône engrenage** pour entrer dans les paramètres de la couche."
   ]
  },
  {
   "cell_type": "markdown",
   "metadata": {},
   "source": [
    "<img src=\"magrit/labels_name_fr.png\"/>"
   ]
  },
  {
   "cell_type": "markdown",
   "metadata": {},
   "source": [
    "Ici, on souhaite afficher les noms des pays en Français."
   ]
  },
  {
   "cell_type": "markdown",
   "metadata": {},
   "source": [
    "<img src=\"magrit/6_millions.png\"/>"
   ]
  },
  {
   "cell_type": "markdown",
   "metadata": {},
   "source": [
    "Après avoir jeter un oeil aux données thématiques, on peut voir qu'il faut fixer un curseur autour de 6,5 millions de tonnes pour séparer les cinq premiers producteurs mondiaux de bananes du reste.\n",
    "\n",
    "Ainsi, on peut utiliser ce seuil pour préciser que l'on souhaite filtrer, **sur le champ \"Value\"** de la table de données thématiques (qui, pour rappel, est jointe au fond de carte)."
   ]
  },
  {
   "cell_type": "markdown",
   "metadata": {},
   "source": [
    "#### Modifier le ratio d'affichage des stocks"
   ]
  },
  {
   "cell_type": "markdown",
   "metadata": {},
   "source": [
    "Si on choisit d'opter pour une représentation sur laquelle on souhaite afficher les labels des principaux producteurs de bananes dans le monde, il paraît judicieux, en termes de lisibilité, d'adapter la taille d'affichage des stocks : cela permet de rendre plus lisible la différence qui peut exister entre les principaux producteurs (Inde : 25% de la production mondiale ; Chine : 10% de la production mondiale), mais aussi de rendre plus lisible les labels que l'on a ajouté."
   ]
  },
  {
   "cell_type": "markdown",
   "metadata": {},
   "source": [
    "<img src=\"magrit/ratio_stocks.png\"/>"
   ]
  },
  {
   "cell_type": "markdown",
   "metadata": {},
   "source": [
    "Pour cela, on entre dans les paramètres de la couche des cercles proportionnels en cliquant sur l'**icône engrenage**.\n",
    "\n",
    "Ensuite, on peut modifier la valeur dans le sous-menu **\"Taille du symbole fixée\"** et la faire augmenter pour accentuer la différence entre les principaux producteurs mondiaux."
   ]
  },
  {
   "cell_type": "markdown",
   "metadata": {},
   "source": [
    "<img src=\"export/bananes_monde_final.svg\"/>"
   ]
  },
  {
   "cell_type": "markdown",
   "metadata": {},
   "source": [
    "La représentation est intéressante mais elle nécessiterait sans doute quelques améliorations par une finalisation à l'aide d'un logiciel de dessin :\n",
    "* Recentrer les labels des principaux producteurs\n",
    "* Ajouter un petit encadré pour préciser la production (en valeur absolue mais aussi en pourcentages des cinq principaux producteurs de bananes) si on fait le choix de les mettre en exergue dans notre représentation\n",
    "* Ajouter éventuellement un zoom et une carte régionale pour clarifier et détailler les producteurs en Amérique centrale et en Afrique centrale qui apparaissent comme relativemnet importants et pourtant peu identifiables dans cette représentation"
   ]
  },
  {
   "cell_type": "markdown",
   "metadata": {},
   "source": [
    "### Cinquième exemple"
   ]
  },
  {
   "cell_type": "markdown",
   "metadata": {},
   "source": [
    "Dans ce cinquième exemple, nous travaillerons à partir d'un jeu de données à partir des données de l'OCDE (https://ec.europa.eu/eurostat/databrowser/view/nama_10_gdp/default/table?lang=fr) sur le PIB et son évolution en Europe.\n",
    "\n",
    "A présent, tentons de mélanger deux éléments vus plus tôt. On peut, avec Magrit, construire une carte qui mélange des données de **ratios** et de **stocks**.\n",
    "\n",
    "On peut directement choisir le fond de carte **\"Nuts 0 (2013) Pays européens (Polygones)\"** et importer le jeu de données **\"gpd_europe.csv\"**.\n",
    "\n",
    "Après l'import et la **jointure**, on pensera bien à **typer les données** correctement :\n",
    "* La colonne \"croissance\" doit être de type \"ratio\"\n",
    "* La colonne \"total\" doit être de type \"stock\""
   ]
  },
  {
   "cell_type": "markdown",
   "metadata": {},
   "source": [
    "<img src=\"export/gdp_europe.svg\"/>"
   ]
  }
 ],
 "metadata": {
  "kernelspec": {
   "display_name": "Python 3",
   "language": "python",
   "name": "python3"
  },
  "language_info": {
   "codemirror_mode": {
    "name": "ipython",
    "version": 3
   },
   "file_extension": ".py",
   "mimetype": "text/x-python",
   "name": "python",
   "nbconvert_exporter": "python",
   "pygments_lexer": "ipython3",
   "version": "3.7.6"
  }
 },
 "nbformat": 4,
 "nbformat_minor": 4
}
